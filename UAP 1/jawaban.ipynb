{
 "cells": [
  {
   "cell_type": "code",
   "execution_count": 17,
   "id": "44c85d72",
   "metadata": {},
   "outputs": [],
   "source": [
    "import numpy as np\n",
    "import os \n",
    "import tensorflow as tf\n",
    "import matplotlib.pyplot as plt\n",
    "from tensorflow.keras.preprocessing.image import img_to_array, load_img\n",
    "from sklearn.model_selection import train_test_split"
   ]
  },
  {
   "cell_type": "code",
   "execution_count": 18,
   "id": "34cd21cf",
   "metadata": {},
   "outputs": [],
   "source": [
    "data_path='./Dataset'\n",
    "images=[]\n",
    "class_list=[]\n",
    "label_class=[\"Broccoli\", \"Carrot\", \"Cucumber\", \"Tomato\"]\n"
   ]
  },
  {
   "cell_type": "code",
   "execution_count": null,
   "id": "85dc4034",
   "metadata": {},
   "outputs": [],
   "source": [
    "for i, label in enumerate(label_class):\n",
    "    img_dir=os.path.join(data_path, label)              #looping tp dikaish kek (0, Broccoli) gt2\n",
    "    for j, img in enumerate(os.listdir(img_dir)):\n",
    "        img_path=os.path.join(img_dir, img)             #dptin path image\n",
    "        img=load_img(img_path, target_size=(200,200))   #load image\n",
    "        img=img_to_array(img)                           #jd array\n",
    "        img=tf.image.rgb_to_grayscale(img)              #jd grayscale\n",
    "        img=img/255.0                                   #normalisasi\n",
    "        images.append(img)\n",
    "        class_list.append(i)\n",
    "        if j>500:\n",
    "            break"
   ]
  },
  {
   "cell_type": "code",
   "execution_count": 22,
   "id": "1900df7f",
   "metadata": {},
   "outputs": [
    {
     "data": {
      "text/plain": [
       "TensorShape([200, 200, 1])"
      ]
     },
     "execution_count": 22,
     "metadata": {},
     "output_type": "execute_result"
    }
   ],
   "source": [
    "images[0].shape"
   ]
  },
  {
   "cell_type": "code",
   "execution_count": 20,
   "id": "d3974720",
   "metadata": {},
   "outputs": [
    {
     "data": {
      "text/plain": [
       "array([[1., 0., 0., 0.],\n",
       "       [1., 0., 0., 0.],\n",
       "       [1., 0., 0., 0.],\n",
       "       ...,\n",
       "       [0., 0., 0., 1.],\n",
       "       [0., 0., 0., 1.],\n",
       "       [0., 0., 0., 1.]], dtype=float32)"
      ]
     },
     "execution_count": 20,
     "metadata": {},
     "output_type": "execute_result"
    }
   ],
   "source": [
    "y=tf.keras.utils.to_categorical(class_list, num_classes=len(label_class))\n",
    "y"
   ]
  },
  {
   "cell_type": "code",
   "execution_count": 21,
   "id": "f3a8c993",
   "metadata": {},
   "outputs": [],
   "source": [
    "x=np.asarray(images)"
   ]
  },
  {
   "cell_type": "code",
   "execution_count": 23,
   "id": "d4041421",
   "metadata": {},
   "outputs": [],
   "source": [
    "x_train, x_temp, y_train, y_temp=train_test_split(x,y,test_size=0.2, random_state=42) #100->80:20\n",
    "x_val, x_test, y_val, y_test=train_test_split(x_temp,y_temp,test_size=0.5, random_state=42) #20->10:10"
   ]
  },
  {
   "cell_type": "code",
   "execution_count": 24,
   "id": "cdebac6c",
   "metadata": {},
   "outputs": [],
   "source": [
    "model=tf.keras.Sequential([\n",
    "    tf.keras.layers.Conv2D(16, kernel_size=(3,3), strides=(1,1), padding=\"same\", activation=\"relu\", input_shape=(200,200,1)),\n",
    "    tf.keras.layers.MaxPool2D((2,2)),\n",
    "    tf.keras.layers.Conv2D(32, kernel_size=(3,3), strides=(1,1), padding=\"same\", activation=\"relu\"),\n",
    "    tf.keras.layers.Conv2D(32, kernel_size=(3,3), strides=(1,1), padding=\"same\", activation=\"relu\"),\n",
    "    tf.keras.layers.MaxPool2D((2,2)),\n",
    "    tf.keras.layers.Flatten(),\n",
    "    tf.keras.layers.Dense(32, activation=\"relu\"),\n",
    "    tf.keras.layers.Dense(16, activation=\"relu\"),\n",
    "    tf.keras.layers.Dense(len(label_class), activation=\"softmax\")\n",
    "])"
   ]
  },
  {
   "cell_type": "code",
   "execution_count": 26,
   "id": "4ef86105",
   "metadata": {},
   "outputs": [
    {
     "name": "stdout",
     "output_type": "stream",
     "text": [
      "Model: \"sequential_2\"\n",
      "_________________________________________________________________\n",
      " Layer (type)                Output Shape              Param #   \n",
      "=================================================================\n",
      " conv2d_6 (Conv2D)           (None, 200, 200, 16)      160       \n",
      "                                                                 \n",
      " max_pooling2d_4 (MaxPooling  (None, 100, 100, 16)     0         \n",
      " 2D)                                                             \n",
      "                                                                 \n",
      " conv2d_7 (Conv2D)           (None, 100, 100, 32)      4640      \n",
      "                                                                 \n",
      " conv2d_8 (Conv2D)           (None, 100, 100, 32)      9248      \n",
      "                                                                 \n",
      " max_pooling2d_5 (MaxPooling  (None, 50, 50, 32)       0         \n",
      " 2D)                                                             \n",
      "                                                                 \n",
      " flatten_2 (Flatten)         (None, 80000)             0         \n",
      "                                                                 \n",
      " dense_6 (Dense)             (None, 32)                2560032   \n",
      "                                                                 \n",
      " dense_7 (Dense)             (None, 16)                528       \n",
      "                                                                 \n",
      " dense_8 (Dense)             (None, 4)                 68        \n",
      "                                                                 \n",
      "=================================================================\n",
      "Total params: 2,574,676\n",
      "Trainable params: 2,574,676\n",
      "Non-trainable params: 0\n",
      "_________________________________________________________________\n"
     ]
    }
   ],
   "source": [
    "model.compile(\n",
    "    optimizer=\"adam\",\n",
    "    loss=\"categorical_crossentropy\",\n",
    "    metrics=['accuracy']\n",
    ")\n",
    "model.summary()"
   ]
  },
  {
   "cell_type": "code",
   "execution_count": 27,
   "id": "5f601da2",
   "metadata": {},
   "outputs": [],
   "source": [
    "earlyStopping=tf.keras.callbacks.EarlyStopping(monitor=\"val_loss\", patience=5)"
   ]
  },
  {
   "cell_type": "code",
   "execution_count": 29,
   "id": "0f05c157",
   "metadata": {},
   "outputs": [
    {
     "name": "stdout",
     "output_type": "stream",
     "text": [
      "Epoch 1/10\n",
      "50/50 [==============================] - 57s 1s/step - loss: 1.1542 - accuracy: 0.4600 - val_loss: 0.6848 - val_accuracy: 0.7850\n",
      "Epoch 2/10\n",
      "50/50 [==============================] - 51s 1s/step - loss: 0.6527 - accuracy: 0.7644 - val_loss: 0.4400 - val_accuracy: 0.8700\n",
      "Epoch 3/10\n",
      "50/50 [==============================] - 51s 1s/step - loss: 0.4131 - accuracy: 0.8425 - val_loss: 0.3418 - val_accuracy: 0.9150\n",
      "Epoch 4/10\n",
      "50/50 [==============================] - 51s 1s/step - loss: 0.2835 - accuracy: 0.8963 - val_loss: 0.3472 - val_accuracy: 0.8850\n",
      "Epoch 5/10\n",
      "50/50 [==============================] - 54s 1s/step - loss: 0.1923 - accuracy: 0.9312 - val_loss: 0.3436 - val_accuracy: 0.8900\n",
      "Epoch 6/10\n",
      "50/50 [==============================] - 59s 1s/step - loss: 0.1611 - accuracy: 0.9400 - val_loss: 0.3214 - val_accuracy: 0.8950\n",
      "Epoch 7/10\n",
      "50/50 [==============================] - 59s 1s/step - loss: 0.1072 - accuracy: 0.9631 - val_loss: 0.2711 - val_accuracy: 0.9050\n",
      "Epoch 8/10\n",
      "50/50 [==============================] - 57s 1s/step - loss: 0.0713 - accuracy: 0.9756 - val_loss: 0.3093 - val_accuracy: 0.9050\n",
      "Epoch 9/10\n",
      "50/50 [==============================] - 57s 1s/step - loss: 0.0694 - accuracy: 0.9744 - val_loss: 0.5027 - val_accuracy: 0.8800\n",
      "Epoch 10/10\n",
      "50/50 [==============================] - 56s 1s/step - loss: 0.0886 - accuracy: 0.9663 - val_loss: 0.3951 - val_accuracy: 0.8650\n"
     ]
    }
   ],
   "source": [
    "history=model.fit(x_train, y_train, validation_data=(x_val, y_val), epochs=10, callbacks=earlyStopping)"
   ]
  },
  {
   "cell_type": "code",
   "execution_count": 30,
   "id": "533ae338",
   "metadata": {},
   "outputs": [
    {
     "data": {
      "image/png": "[encoded data removed]",
      "text/plain": [
       "<Figure size 640x480 with 1 Axes>"
      ]
     },
     "metadata": {},
     "output_type": "display_data"
    }
   ],
   "source": [
    "plt.plot(history.history['loss'], label=\"Train Loss\")\n",
    "plt.plot(history.history['val_loss'], label=\"Calidation Loss\")\n",
    "plt.xlabel(\"Epochs\")\n",
    "plt.ylabel(\"Loss\")\n",
    "plt.legend()\n",
    "plt.show()"
   ]
  },
  {
   "cell_type": "code",
   "execution_count": 31,
   "id": "77e9c23d",
   "metadata": {},
   "outputs": [
    {
     "data": {
      "image/png": "[encoded data removed]",
      "text/plain": [
       "<Figure size 640x480 with 1 Axes>"
      ]
     },
     "metadata": {},
     "output_type": "display_data"
    }
   ],
   "source": [
    "plt.plot(history.history['accuracy'], label=\"Train accuracy\")\n",
    "plt.plot(history.history['val_accuracy'], label=\"Calidation accuracy\")\n",
    "plt.xlabel(\"Epochs\")\n",
    "plt.ylabel(\"accuracy\")\n",
    "plt.legend()\n",
    "plt.show()"
   ]
  },
  {
   "cell_type": "code",
   "execution_count": 32,
   "id": "27879bae",
   "metadata": {},
   "outputs": [
    {
     "name": "stdout",
     "output_type": "stream",
     "text": [
      "7/7 [==============================] - 2s 238ms/step - loss: 0.5896 - accuracy: 0.8400\n"
     ]
    }
   ],
   "source": [
    "loss,acc=model.evaluate(x_test,y_test)"
   ]
  },
  {
   "cell_type": "code",
   "execution_count": 36,
   "id": "ad1d3843",
   "metadata": {},
   "outputs": [],
   "source": [
    "from sklearn.metrics import r2_score"
   ]
  },
  {
   "cell_type": "code",
   "execution_count": 33,
   "id": "d6117221",
   "metadata": {},
   "outputs": [
    {
     "name": "stdout",
     "output_type": "stream",
     "text": [
      "7/7 [==============================] - 2s 197ms/step\n"
     ]
    },
    {
     "data": {
      "text/plain": [
       "array([[3.00190270e-01, 4.42664891e-08, 6.99791491e-01, 1.81721389e-05],\n",
       "       [1.24994822e-01, 5.18043282e-11, 1.69239230e-02, 8.58081222e-01],\n",
       "       [2.09747133e-18, 9.99999881e-01, 1.28625132e-07, 2.29068446e-13],\n",
       "       [1.42284835e-05, 7.42697739e-05, 3.90860223e-04, 9.99520659e-01],\n",
       "       [1.00000000e+00, 2.81828614e-15, 3.79763510e-09, 3.45461011e-08],\n",
       "       [1.72071755e-01, 5.73515026e-05, 7.98547268e-01, 2.93235742e-02],\n",
       "       [9.23743893e-24, 9.99552667e-01, 4.47258033e-04, 3.65241379e-11],\n",
       "       [3.11343700e-01, 6.76381717e-07, 3.25941555e-02, 6.56061471e-01],\n",
       "       [9.99800980e-01, 5.33035716e-17, 1.99043221e-04, 1.92785191e-10],\n",
       "       [9.99869585e-01, 8.70536088e-09, 1.72044838e-05, 1.13257709e-04],\n",
       "       [5.16293076e-05, 9.42701348e-08, 9.99902487e-01, 4.57776441e-05],\n",
       "       [9.99996305e-01, 2.75745117e-12, 9.68805352e-07, 2.68784538e-06],\n",
       "       [8.87802614e-08, 7.59434613e-07, 9.99999046e-01, 2.32741844e-08],\n",
       "       [1.15631978e-04, 7.52518326e-02, 5.32812595e-01, 3.91819924e-01],\n",
       "       [7.06715291e-05, 8.48338366e-01, 1.41077384e-01, 1.05135720e-02],\n",
       "       [1.00000000e+00, 3.55392593e-19, 7.84579512e-09, 2.21651322e-10],\n",
       "       [1.12597423e-03, 2.02901333e-06, 9.98709321e-01, 1.62667740e-04],\n",
       "       [9.99091029e-01, 1.09923679e-08, 6.57188008e-04, 2.51748890e-04],\n",
       "       [9.99835134e-01, 2.28810009e-11, 1.60935408e-04, 3.93150503e-06],\n",
       "       [1.33604816e-09, 9.98024225e-01, 1.97569584e-03, 1.55286571e-07],\n",
       "       [5.44616695e-12, 9.99878407e-01, 1.21428224e-04, 7.40296713e-08],\n",
       "       [2.26099119e-01, 1.10991027e-06, 7.51495123e-01, 2.24046670e-02],\n",
       "       [2.48795241e-05, 1.09205372e-03, 1.80137213e-02, 9.80869412e-01],\n",
       "       [2.09258813e-02, 1.56188034e-05, 1.59401298e-02, 9.63118374e-01],\n",
       "       [5.49528608e-03, 2.75565864e-04, 1.72068000e-01, 8.22161078e-01],\n",
       "       [1.36218702e-07, 1.10364610e-07, 9.99999642e-01, 1.81549339e-07],\n",
       "       [5.57457383e-07, 9.94675279e-01, 5.16187446e-03, 1.62327269e-04],\n",
       "       [2.47915304e-05, 2.40341033e-04, 4.95885313e-01, 5.03849506e-01],\n",
       "       [9.99999881e-01, 1.38395372e-13, 1.28310438e-08, 1.01256774e-07],\n",
       "       [9.99789298e-01, 6.07841777e-10, 2.07958452e-04, 2.73235537e-06],\n",
       "       [6.32264374e-08, 2.23365352e-01, 4.02955800e-01, 3.73678803e-01],\n",
       "       [1.00000000e+00, 2.36152620e-19, 2.14519819e-10, 3.24450439e-10],\n",
       "       [5.41802123e-03, 2.63777003e-02, 6.87901676e-02, 8.99414122e-01],\n",
       "       [1.60024683e-05, 4.51532469e-05, 4.26169223e-04, 9.99512672e-01],\n",
       "       [1.03883231e-02, 1.84009153e-07, 3.46916192e-03, 9.86142218e-01],\n",
       "       [1.49424639e-09, 4.76196593e-09, 1.00000000e+00, 8.67640107e-14],\n",
       "       [3.18222828e-02, 4.99523310e-07, 3.63342697e-03, 9.64543879e-01],\n",
       "       [4.14066875e-07, 3.38022801e-05, 5.72490739e-03, 9.94240880e-01],\n",
       "       [7.18107671e-08, 9.86977041e-01, 1.30179562e-02, 4.92571098e-06],\n",
       "       [1.06082240e-03, 1.59295996e-06, 9.98935997e-01, 1.66782274e-06],\n",
       "       [5.76972586e-15, 9.90580499e-01, 9.41851735e-03, 9.71208692e-07],\n",
       "       [5.48863737e-03, 8.99957435e-04, 1.50808543e-02, 9.78530586e-01],\n",
       "       [6.85591840e-06, 3.90435336e-04, 1.49000082e-02, 9.84702766e-01],\n",
       "       [9.99999642e-01, 4.40228136e-17, 3.69396929e-07, 8.91650503e-11],\n",
       "       [1.39533213e-05, 5.40993325e-02, 5.55811167e-01, 3.90075505e-01],\n",
       "       [9.99996662e-01, 3.36690246e-12, 2.18167429e-06, 1.14051898e-06],\n",
       "       [8.97916794e-01, 7.20994792e-11, 2.38373945e-03, 9.96994823e-02],\n",
       "       [6.05653477e-05, 1.67055845e-01, 8.28685641e-01, 4.19794489e-03],\n",
       "       [7.26594869e-03, 1.52801351e-06, 1.40620954e-02, 9.78670418e-01],\n",
       "       [1.04447603e-02, 9.72979033e-05, 4.20763902e-03, 9.85250413e-01],\n",
       "       [3.34854089e-11, 9.99957800e-01, 4.02902442e-05, 1.91829622e-06],\n",
       "       [1.86638921e-04, 3.00559099e-03, 3.73344794e-02, 9.59473193e-01],\n",
       "       [1.04314402e-09, 6.96062809e-04, 9.99303937e-01, 5.29440136e-09],\n",
       "       [4.22859556e-13, 7.61079093e-07, 9.99999166e-01, 4.27439772e-08],\n",
       "       [6.78719894e-04, 1.81503266e-01, 8.01712573e-01, 1.61053836e-02],\n",
       "       [1.00000000e+00, 1.37681919e-20, 5.58893987e-10, 7.78399534e-13],\n",
       "       [2.25590831e-11, 1.20113174e-04, 9.99879479e-01, 4.23617422e-07],\n",
       "       [3.12546879e-04, 1.22049814e-02, 1.97519243e-01, 7.89963186e-01],\n",
       "       [1.41139390e-05, 3.15065712e-01, 5.50101340e-01, 1.34818807e-01],\n",
       "       [3.23447757e-09, 9.31995809e-01, 6.80026710e-02, 1.55814735e-06],\n",
       "       [1.33463449e-03, 1.49959811e-09, 3.48641090e-02, 9.63801265e-01],\n",
       "       [4.68254428e-12, 9.56383705e-01, 4.36089076e-02, 7.41127587e-06],\n",
       "       [1.75920844e-01, 1.21897832e-03, 2.81146586e-01, 5.41713655e-01],\n",
       "       [9.98883069e-01, 1.56070968e-12, 1.05275726e-03, 6.41828738e-05],\n",
       "       [1.39674827e-09, 9.97515202e-01, 2.47620698e-03, 8.61112767e-06],\n",
       "       [5.56885279e-05, 9.91896212e-01, 4.93168179e-03, 3.11647751e-03],\n",
       "       [8.48918269e-09, 1.05568113e-04, 9.99890804e-01, 3.66248446e-06],\n",
       "       [9.99824345e-01, 8.95745589e-10, 2.10590315e-05, 1.54609079e-04],\n",
       "       [2.81756911e-05, 4.00881708e-01, 4.59580034e-01, 1.39510140e-01],\n",
       "       [3.80004934e-08, 3.68127257e-01, 6.31514192e-01, 3.58448568e-04],\n",
       "       [9.99990582e-01, 2.80061915e-15, 9.05716388e-06, 3.44613284e-07],\n",
       "       [1.61595375e-03, 3.69531361e-09, 9.98224199e-01, 1.59779142e-04],\n",
       "       [3.87089916e-10, 1.10264476e-02, 9.88971174e-01, 2.36768983e-06],\n",
       "       [4.72629068e-07, 9.90184426e-01, 7.94273987e-03, 1.87230669e-03],\n",
       "       [1.75809311e-14, 9.74049211e-01, 2.59507746e-02, 7.94627905e-11],\n",
       "       [7.95596620e-08, 6.84967816e-01, 3.10510248e-01, 4.52174246e-03],\n",
       "       [9.80460227e-01, 8.78731683e-08, 1.81069300e-02, 1.43274490e-03],\n",
       "       [9.99984384e-01, 1.90570343e-15, 1.53733854e-05, 2.51178989e-07],\n",
       "       [1.41704204e-10, 9.90564466e-01, 9.43502784e-03, 4.81567383e-07],\n",
       "       [7.93959713e-04, 4.22961632e-04, 9.98431861e-01, 3.51167226e-04],\n",
       "       [7.84918581e-15, 9.97280359e-01, 2.71965680e-03, 6.02898398e-10],\n",
       "       [1.75047759e-03, 1.23223390e-06, 2.11960563e-04, 9.98036325e-01],\n",
       "       [6.97934115e-03, 3.41690498e-09, 9.93019760e-01, 9.13255633e-07],\n",
       "       [2.58946429e-08, 2.20956044e-05, 9.99829292e-01, 1.48592721e-04],\n",
       "       [7.89488149e-06, 1.25614670e-05, 2.26459117e-03, 9.97714877e-01],\n",
       "       [9.15399778e-06, 9.59631288e-05, 9.76460934e-01, 2.34339442e-02],\n",
       "       [6.62291427e-07, 7.96709299e-01, 2.03089833e-01, 2.00206734e-04],\n",
       "       [9.99907851e-01, 1.14241430e-15, 9.21208266e-05, 1.15505994e-09],\n",
       "       [1.73245844e-05, 2.63957411e-01, 4.98904973e-01, 2.37120360e-01],\n",
       "       [2.00132941e-08, 5.29883195e-08, 1.47809851e-05, 9.99985218e-01],\n",
       "       [2.56626718e-02, 9.17635800e-04, 9.71450031e-01, 1.96960778e-03],\n",
       "       [4.99784946e-02, 1.19175438e-05, 9.30062085e-02, 8.57003391e-01],\n",
       "       [5.13673760e-02, 7.03954502e-05, 1.78291760e-02, 9.30733085e-01],\n",
       "       [8.70552957e-02, 1.87379526e-04, 1.43509144e-02, 8.98406386e-01],\n",
       "       [1.11177936e-03, 1.61681369e-01, 8.36968422e-01, 2.38451466e-04],\n",
       "       [3.36559992e-06, 1.59376796e-08, 9.99996662e-01, 7.28414662e-09],\n",
       "       [6.97674986e-05, 6.81131351e-05, 4.34506452e-03, 9.95517075e-01],\n",
       "       [2.44191689e-09, 7.28185441e-08, 9.99999881e-01, 1.17748944e-09],\n",
       "       [7.00526952e-15, 9.91517723e-01, 8.48129205e-03, 9.24253186e-07],\n",
       "       [9.93816435e-01, 5.68331215e-10, 1.50639494e-03, 4.67717554e-03],\n",
       "       [6.65750587e-04, 1.53888861e-04, 9.55953356e-03, 9.89620805e-01],\n",
       "       [8.91963282e-05, 9.90151703e-01, 8.74272548e-03, 1.01644685e-03],\n",
       "       [1.56449437e-11, 9.99602735e-01, 3.94920906e-04, 2.39970859e-06],\n",
       "       [6.30525291e-16, 9.98759747e-01, 1.24020164e-03, 6.49115179e-08],\n",
       "       [2.85102913e-10, 4.78203731e-07, 9.99999404e-01, 6.94930478e-08],\n",
       "       [7.40357864e-05, 5.36906812e-03, 1.87930703e-01, 8.06626260e-01],\n",
       "       [9.99529600e-01, 6.92049085e-08, 1.90324408e-06, 4.68427606e-04],\n",
       "       [2.27791788e-05, 2.57161562e-04, 1.18357353e-02, 9.87884343e-01],\n",
       "       [1.86322797e-02, 1.71709195e-01, 3.84640507e-02, 7.71194518e-01],\n",
       "       [4.66295993e-20, 9.99983907e-01, 1.60911550e-05, 9.46431410e-13],\n",
       "       [2.49353852e-05, 2.52900980e-02, 2.23641675e-02, 9.52320755e-01],\n",
       "       [3.43835560e-09, 3.32380732e-04, 9.99667406e-01, 2.53653525e-07],\n",
       "       [1.18732964e-06, 1.49160600e-03, 7.03948855e-01, 2.94558346e-01],\n",
       "       [3.38645784e-15, 9.99379158e-01, 6.20805891e-04, 4.84082889e-08],\n",
       "       [1.01656758e-03, 1.46827688e-02, 1.69561934e-02, 9.67344463e-01],\n",
       "       [1.11058462e-05, 3.24356297e-05, 9.90266025e-01, 9.69041977e-03],\n",
       "       [3.55593111e-05, 9.51286202e-05, 5.61204553e-03, 9.94257212e-01],\n",
       "       [1.73904326e-07, 8.83751579e-12, 2.09904033e-06, 9.99997735e-01],\n",
       "       [1.55784923e-03, 6.12198282e-03, 7.92445958e-01, 1.99874148e-01],\n",
       "       [2.45249551e-03, 4.40734220e-06, 9.93485272e-01, 4.05787118e-03],\n",
       "       [1.90890307e-04, 2.65926439e-02, 1.99479610e-01, 7.73736835e-01],\n",
       "       [3.95908063e-11, 9.99882460e-01, 1.09948473e-04, 7.61029878e-06],\n",
       "       [9.87902462e-01, 1.29595310e-11, 2.70243664e-03, 9.39509738e-03],\n",
       "       [1.79087488e-06, 4.02784767e-03, 1.11304596e-01, 8.84665787e-01],\n",
       "       [3.00462798e-05, 7.98495918e-08, 1.82643300e-03, 9.98143435e-01],\n",
       "       [1.05373692e-05, 4.92006764e-02, 5.63661039e-01, 3.87127668e-01],\n",
       "       [1.00000000e+00, 6.03306818e-24, 1.12793184e-12, 2.78258624e-14],\n",
       "       [3.43370289e-07, 9.31883369e-06, 1.51745733e-02, 9.84815836e-01],\n",
       "       [7.52542436e-01, 3.52086127e-02, 2.07061604e-01, 5.18739969e-03],\n",
       "       [9.99994874e-01, 2.69733910e-16, 5.16024011e-06, 1.38508058e-08],\n",
       "       [1.00745040e-03, 5.62574023e-05, 2.31989790e-02, 9.75737333e-01],\n",
       "       [3.01064795e-09, 3.90975475e-01, 6.08996511e-01, 2.79871711e-05],\n",
       "       [4.85785412e-09, 1.09717075e-06, 1.73573953e-05, 9.99981523e-01],\n",
       "       [6.59192920e-01, 5.36591233e-06, 3.39610904e-01, 1.19071244e-03],\n",
       "       [8.56666418e-04, 7.38124037e-03, 1.82165980e-01, 8.09596002e-01],\n",
       "       [9.87793148e-01, 4.80087747e-09, 8.17589287e-04, 1.13892993e-02],\n",
       "       [9.99956131e-01, 4.20944876e-12, 3.97964104e-05, 4.01569741e-06],\n",
       "       [6.26304653e-04, 3.20802268e-04, 7.38675985e-03, 9.91666138e-01],\n",
       "       [1.00000000e+00, 1.69802706e-18, 2.23016183e-08, 1.40912055e-08],\n",
       "       [4.53421293e-04, 1.26294550e-02, 9.86805677e-01, 1.11475383e-04],\n",
       "       [1.13894351e-01, 2.96431449e-06, 4.24661823e-02, 8.43636513e-01],\n",
       "       [6.58060312e-02, 1.23639556e-05, 6.19122060e-03, 9.27990377e-01],\n",
       "       [9.25299464e-05, 7.61569738e-02, 2.03012437e-01, 7.20738113e-01],\n",
       "       [9.99988556e-01, 3.61203105e-17, 1.08122313e-05, 6.08777839e-07],\n",
       "       [2.43285785e-06, 2.56997032e-06, 9.96234477e-01, 3.76062421e-03],\n",
       "       [4.66831581e-04, 5.47441705e-05, 9.54557776e-01, 4.49207202e-02],\n",
       "       [9.99992013e-01, 1.22902495e-17, 8.01721490e-06, 6.61926278e-11],\n",
       "       [7.35550884e-06, 3.68560068e-02, 5.42532265e-01, 4.20604318e-01],\n",
       "       [1.55699716e-14, 3.34240934e-11, 1.00000000e+00, 1.17317380e-17],\n",
       "       [9.99989986e-01, 4.91309761e-16, 9.85913084e-06, 1.48685118e-07],\n",
       "       [2.64599498e-09, 8.56214285e-01, 1.43530309e-01, 2.55426799e-04],\n",
       "       [4.23471230e-10, 9.96606112e-01, 3.39376740e-03, 7.97402961e-08],\n",
       "       [6.40424863e-02, 8.10195729e-07, 1.99816778e-01, 7.36139953e-01],\n",
       "       [1.56769204e-06, 1.70384417e-04, 3.62440338e-03, 9.96203601e-01],\n",
       "       [9.99978304e-01, 1.70856574e-13, 1.42289182e-05, 7.52659071e-06],\n",
       "       [4.52007737e-11, 2.62128879e-06, 9.99997377e-01, 1.85663773e-09],\n",
       "       [3.47946560e-10, 5.12268802e-04, 9.99397874e-01, 8.98826474e-05],\n",
       "       [1.59703192e-15, 9.93338525e-01, 6.66146167e-03, 6.34989672e-10],\n",
       "       [4.74677596e-04, 2.95368675e-02, 6.58829808e-01, 3.11158627e-01],\n",
       "       [7.38185197e-02, 6.96028874e-05, 5.62155293e-03, 9.20490324e-01],\n",
       "       [2.50762671e-01, 2.28021978e-04, 3.16635929e-02, 7.17345715e-01],\n",
       "       [5.42141998e-10, 4.20887605e-04, 9.99576628e-01, 2.49716754e-06],\n",
       "       [1.00000000e+00, 8.96595797e-24, 1.68794029e-13, 2.39213910e-16],\n",
       "       [9.99965787e-01, 2.99965018e-11, 1.46088939e-06, 3.27718408e-05],\n",
       "       [7.57893304e-07, 9.40357422e-05, 5.16433939e-02, 9.48261738e-01],\n",
       "       [1.55841276e-01, 6.03879471e-06, 4.07593638e-01, 4.36559111e-01],\n",
       "       [2.70612829e-04, 7.56755617e-05, 4.53855284e-03, 9.95115161e-01],\n",
       "       [1.86105493e-12, 9.99876618e-01, 1.23406353e-04, 6.88991475e-10],\n",
       "       [5.27337152e-09, 5.07856157e-06, 9.99994874e-01, 4.90675660e-11],\n",
       "       [8.02257782e-05, 2.06453824e-05, 1.01438491e-02, 9.89755332e-01],\n",
       "       [9.89219964e-01, 2.87024582e-09, 1.07320659e-02, 4.80087547e-05],\n",
       "       [1.09708717e-05, 3.20485469e-07, 9.95976269e-01, 4.01253067e-03],\n",
       "       [9.99961376e-01, 1.44402448e-13, 3.29087488e-05, 5.77213268e-06],\n",
       "       [2.68513304e-05, 2.81403661e-01, 5.19181669e-01, 1.99387759e-01],\n",
       "       [9.07416961e-07, 9.93218362e-01, 6.59482321e-03, 1.85862402e-04],\n",
       "       [1.50297092e-05, 1.29174720e-03, 6.17002556e-03, 9.92523134e-01],\n",
       "       [3.16046382e-04, 5.83709292e-02, 9.41223443e-01, 8.94826662e-05],\n",
       "       [5.99452615e-01, 1.79058782e-11, 4.00547385e-01, 1.02474840e-09],\n",
       "       [1.00000000e+00, 2.83641646e-15, 4.50826576e-08, 8.38340597e-09],\n",
       "       [3.03117704e-05, 1.68609340e-02, 9.82223272e-01, 8.85474903e-04],\n",
       "       [7.07699801e-05, 5.64833208e-05, 9.99838352e-01, 3.43303909e-05],\n",
       "       [5.34289852e-02, 3.22684770e-07, 4.59504919e-03, 9.41975653e-01],\n",
       "       [9.61284030e-08, 1.09542708e-03, 9.98900414e-01, 4.02964361e-06],\n",
       "       [2.12844416e-01, 3.43985558e-02, 5.85019171e-01, 1.67737857e-01],\n",
       "       [7.72289326e-03, 1.83037046e-04, 2.70734113e-02, 9.65020657e-01],\n",
       "       [8.48077598e-12, 9.99933481e-01, 6.63160754e-05, 2.20277343e-07],\n",
       "       [6.67863969e-06, 3.42144191e-01, 5.21106422e-01, 1.36742651e-01],\n",
       "       [4.87798357e-10, 1.64946823e-06, 9.99997258e-01, 1.06431060e-06],\n",
       "       [4.35094327e-01, 1.41635610e-07, 6.47846609e-03, 5.58427036e-01],\n",
       "       [9.99999642e-01, 1.63292070e-17, 3.92459697e-07, 8.79616796e-11],\n",
       "       [5.03989725e-07, 1.25695672e-02, 2.13126857e-02, 9.66117263e-01],\n",
       "       [9.65279378e-06, 6.54845655e-01, 3.12244296e-01, 3.29003744e-02],\n",
       "       [3.50469023e-01, 4.17665765e-03, 6.96649626e-02, 5.75689375e-01],\n",
       "       [1.87942931e-07, 5.07229015e-06, 6.06102658e-05, 9.99934077e-01],\n",
       "       [9.65877354e-01, 2.69552970e-07, 1.39649874e-02, 2.01574396e-02],\n",
       "       [2.20612608e-04, 3.33507694e-02, 1.72604010e-01, 7.93824613e-01],\n",
       "       [9.83419657e-01, 5.24709128e-14, 1.65803842e-02, 3.36757076e-08],\n",
       "       [9.99899745e-01, 3.42219972e-17, 1.00166537e-04, 7.48566364e-08],\n",
       "       [4.92496848e-01, 3.57264596e-09, 1.03348587e-03, 5.06469727e-01],\n",
       "       [1.49928033e-03, 1.76746864e-03, 3.92181687e-02, 9.57515121e-01]],\n",
       "      dtype=float32)"
      ]
     },
     "execution_count": 33,
     "metadata": {},
     "output_type": "execute_result"
    }
   ],
   "source": [
    "model.predict(x_test)"
   ]
  },
  {
   "cell_type": "code",
   "execution_count": 37,
   "id": "36f6d1c7",
   "metadata": {},
   "outputs": [
    {
     "name": "stdout",
     "output_type": "stream",
     "text": [
      "7/7 [==============================] - 2s 327ms/step\n"
     ]
    },
    {
     "data": {
      "text/plain": [
       "0.6877036322350302"
      ]
     },
     "execution_count": 37,
     "metadata": {},
     "output_type": "execute_result"
    }
   ],
   "source": [
    "r2_score(y_test, model.predict(x_test))"
   ]
  },
  {
   "cell_type": "code",
   "execution_count": 38,
   "id": "8f73dc36",
   "metadata": {},
   "outputs": [],
   "source": [
    "model.save(\"cnn.h5\")"
   ]
  },
  {
   "cell_type": "code",
   "execution_count": 39,
   "id": "55cb7892",
   "metadata": {},
   "outputs": [],
   "source": [
    "model_load=tf.keras.models.load_model(\"cnn.h5\")"
   ]
  }
 ],
 "metadata": {
  "kernelspec": {
   "display_name": "deep_learning",
   "language": "python",
   "name": "python3"
  },
  "language_info": {
   "codemirror_mode": {
    "name": "ipython",
    "version": 3
   },
   "file_extension": ".py",
   "mimetype": "text/x-python",
   "name": "python",
   "nbconvert_exporter": "python",
   "pygments_lexer": "ipython3",
   "version": "3.10.9"
  }
 },
 "nbformat": 4,
 "nbformat_minor": 5
}
